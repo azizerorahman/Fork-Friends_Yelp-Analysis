{
  "cells": [
    {
      "cell_type": "code",
      "execution_count": 0,
      "metadata": {
        "autoscroll": "auto"
      },
      "outputs": [],
      "source": [
        "1. Count the number of check-ins per year."
      ]
    },
    {
      "cell_type": "code",
      "execution_count": 1,
      "metadata": {
        "autoscroll": "auto"
      },
      "outputs": [],
      "source": [
        "\n",
        "\n",
        "%pyspark\n",
        "checkin_df = spark.table('checkin')\n",
        "\n",
        "result = checkin_df \\\n",
        "    .select(\n",
        "        checkin_df.business_id, \n",
        "        explode(split(checkin_df.checkin_dates, ',')).alias('datetime')\n",
        "    ) \\\n",
        "    .selectExpr(\n",
        "        'business_id', \n",
        "        'year(to_timestamp(trim(datetime))) as year'\n",
        "    ) \\\n",
        "    .groupBy('year') \\\n",
        "    .count() \\\n",
        "    .withColumnRenamed('year', 'Year') \\\n",
        "    .withColumnRenamed('count', 'Check-in Count') \\\n",
        "    .orderBy('Year')\n",
        "\n",
        "z.show(result)\n",
        "\n"
      ]
    },
    {
      "cell_type": "code",
      "execution_count": 2,
      "metadata": {
        "autoscroll": "auto"
      },
      "outputs": [],
      "source": [
        "2. Count the number of check-ins per hour within a 24-hour period.\n"
      ]
    },
    {
      "cell_type": "code",
      "execution_count": 3,
      "metadata": {
        "autoscroll": "auto"
      },
      "outputs": [],
      "source": [
        "\n",
        "\n",
        "%pyspark\n",
        "checkin_df = spark.table('checkin')\n",
        "\n",
        "result = checkin_df \\\n",
        "    .select(\n",
        "        explode(split(checkin_df.checkin_dates, ',')).alias('datetime')\n",
        "    ) \\\n",
        "    .selectExpr(\n",
        "        'hour(to_timestamp(trim(datetime))) as checkin_hour'\n",
        "    ) \\\n",
        "    .groupBy('checkin_hour') \\\n",
        "    .count() \\\n",
        "    .withColumnRenamed('checkin_hour', 'Checkin Hour') \\\n",
        "    .withColumnRenamed('count', 'Checkin Count') \\\n",
        "    .orderBy('Checkin Hour')\n",
        "\n",
        "z.show(result)\n",
        "\n"
      ]
    }
  ],
  "metadata": {
    "kernelspec": {
      "language": "scala",
      "name": "spark2-scala"
    },
    "language_info": {
      "codemirror_mode": "text/x-scala",
      "file_extension": ".scala",
      "mimetype": "text/x-scala",
      "name": "scala",
      "pygments_lexer": "scala"
    },
    "name": "Check-in"
  },
  "nbformat": 4,
  "nbformat_minor": 2
}
