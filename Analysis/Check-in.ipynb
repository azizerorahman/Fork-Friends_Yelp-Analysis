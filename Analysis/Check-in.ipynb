﻿{
  "metadata": {
    "name": "Check-in",
    "kernelspec": {
      "language": "scala",
      "name": "spark2-scala"
    },
    "language_info": {
      "codemirror_mode": "text/x-scala",
      "file_extension": ".scala",
      "mimetype": "text/x-scala",
      "name": "scala",
      "pygments_lexer": "scala"
    }
  },
  "nbformat": 4,
  "nbformat_minor": 2,
  "cells": [
    {
      "cell_type": "code",
      "execution_count": 0,
      "metadata": {
        "autoscroll": "auto"
      },
      "outputs": [],
      "source": "1. Count the number of check-ins per year."
    },
    {
      "cell_type": "code",
      "execution_count": 1,
      "metadata": {
        "autoscroll": "auto"
      },
      "outputs": [],
      "source": "\r\n\r\n%pyspark\r\ncheckin_df \u003d spark.table(\u0027checkin\u0027)\r\n\r\nresult \u003d checkin_df \\\r\n    .select(\r\n        checkin_df.business_id, \r\n        explode(split(checkin_df.checkin_dates, \u0027,\u0027)).alias(\u0027datetime\u0027)\r\n    ) \\\r\n    .selectExpr(\r\n        \u0027business_id\u0027, \r\n        \u0027year(to_timestamp(trim(datetime))) as year\u0027\r\n    ) \\\r\n    .groupBy(\u0027year\u0027) \\\r\n    .count() \\\r\n    .withColumnRenamed(\u0027year\u0027, \u0027Year\u0027) \\\r\n    .withColumnRenamed(\u0027count\u0027, \u0027Check-in Count\u0027) \\\r\n    .orderBy(\u0027Year\u0027)\r\n\r\nz.show(result)\r\n\r\n"
    },
    {
      "cell_type": "code",
      "execution_count": 2,
      "metadata": {
        "autoscroll": "auto"
      },
      "outputs": [],
      "source": "2. Count the number of check-ins per hour within a 24-hour period.\n"
    },
    {
      "cell_type": "code",
      "execution_count": 3,
      "metadata": {
        "autoscroll": "auto"
      },
      "outputs": [],
      "source": "\r\n\r\n%pyspark\r\ncheckin_df \u003d spark.table(\u0027checkin\u0027)\r\n\r\nresult \u003d checkin_df \\\r\n    .select(\r\n        explode(split(checkin_df.checkin_dates, \u0027,\u0027)).alias(\u0027datetime\u0027)\r\n    ) \\\r\n    .selectExpr(\r\n        \u0027hour(to_timestamp(trim(datetime))) as checkin_hour\u0027\r\n    ) \\\r\n    .groupBy(\u0027checkin_hour\u0027) \\\r\n    .count() \\\r\n    .withColumnRenamed(\u0027checkin_hour\u0027, \u0027Checkin Hour\u0027) \\\r\n    .withColumnRenamed(\u0027count\u0027, \u0027Checkin Count\u0027) \\\r\n    .orderBy(\u0027Checkin Hour\u0027)\r\n\r\nz.show(result)\r\n\r\n"
    },
    {
      "cell_type": "code",
      "execution_count": 4,
      "metadata": {
        "autoscroll": "auto"
      },
      "outputs": [],
      "source": "3. Identify the most popular city for check-ins."
    },
    {
      "cell_type": "code",
      "execution_count": 5,
      "metadata": {
        "autoscroll": "auto"
      },
      "outputs": [],
      "source": "\r\n\r\n%pyspark\r\ncheckin_df \u003d spark.table(\u0027checkin\u0027)\r\nbusiness_df \u003d spark.table(\u0027business\u0027)\r\n\r\ncheckin_exploded \u003d checkin_df \\\r\n    .select(\r\n        checkin_df.business_id,\r\n        explode(split(checkin_df.checkin_dates, \u0027,\u0027)).alias(\u0027datetime\u0027)\r\n    )\r\n\r\nresult \u003d checkin_exploded \\\r\n    .join(business_df, checkin_exploded.business_id \u003d\u003d business_df.business_id) \\\r\n    .groupBy(business_df.city) \\\r\n    .count() \\\r\n    .withColumnRenamed(\u0027city\u0027, \u0027City\u0027) \\\r\n    .withColumnRenamed(\u0027count\u0027, \u0027Checkin Count\u0027) \\\r\n    .orderBy(\u0027Checkin Count\u0027, ascending\u003dFalse) \\\r\n    .limit(1)\r\n\r\nz.show(result)\r\n\r\n"
    },
    {
      "cell_type": "code",
      "execution_count": 6,
      "metadata": {
        "autoscroll": "auto"
      },
      "outputs": [],
      "source": "4. Rank all businesses based on check-in counts."
    },
    {
      "cell_type": "code",
      "execution_count": 7,
      "metadata": {
        "autoscroll": "auto"
      },
      "outputs": [],
      "source": "\r\n\r\n%pyspark\r\ncheckin_df \u003d spark.table(\u0027checkin\u0027)\r\nbusiness_df \u003d spark.table(\u0027business\u0027)\r\n\r\ncheckin_exploded \u003d checkin_df \\\r\n    .select(\r\n        checkin_df.business_id,\r\n        explode(split(checkin_df.checkin_dates, \u0027,\u0027)).alias(\u0027datetime\u0027)\r\n    )\r\n\r\nresult \u003d checkin_exploded \\\r\n    .join(business_df, checkin_exploded.business_id \u003d\u003d business_df.business_id) \\\r\n    .groupBy(business_df.name) \\\r\n    .count() \\\r\n    .withColumnRenamed(\u0027name\u0027, \u0027Business Name\u0027) \\\r\n    .withColumnRenamed(\u0027count\u0027, \u0027Checkin Count\u0027) \\\r\n    .orderBy(\u0027Checkin Count\u0027, ascending\u003dFalse)\r\n\r\nz.show(result)\r\n\r\n"
    }
  ]
}