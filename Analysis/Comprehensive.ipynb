﻿{
  "metadata": {
    "name": "Comprehensive",
    "kernelspec": {
      "language": "scala",
      "name": "spark2-scala"
    },
    "language_info": {
      "codemirror_mode": "text/x-scala",
      "file_extension": ".scala",
      "mimetype": "text/x-scala",
      "name": "scala",
      "pygments_lexer": "scala"
    }
  },
  "nbformat": 4,
  "nbformat_minor": 2,
  "cells": [
    {
      "cell_type": "code",
      "execution_count": 0,
      "metadata": {
        "autoscroll": "auto"
      },
      "outputs": [],
      "source": "1. Identify the top 5 merchants in each city based on rating frequency, average rating, and check-in frequency."
    },
    {
      "cell_type": "code",
      "execution_count": 1,
      "metadata": {
        "autoscroll": "auto"
      },
      "outputs": [],
      "source": "\r\n\r\n%pyspark\r\nfrom pyspark.sql import HiveContext\r\nfrom pyspark.sql.functions import avg, count, col, row_number, explode, split\r\nfrom pyspark.sql.window import Window\r\n\r\nhc \u003d HiveContext(sc)\r\n\r\nbusiness_df \u003d hc.table(\u0027business\u0027)\r\ncheckin_df \u003d hc.table(\u0027checkin\u0027)\r\nreview_df \u003d hc.table(\"review\")\r\n\r\nbusiness_with_reviews_df \u003d business_df.join(review_df, business_df.business_id \u003d\u003d review_df.rev_business_id, \"left\")\r\n\r\nbusiness_stats_df \u003d business_with_reviews_df.groupBy(\"business_id\", \"name\", \"city\") \\\r\n    .agg(\r\n        avg(\"rev_stars\").alias(\"Average Rating\"),\r\n        count(\"rev_stars\").alias(\"Rating Frequency\")\r\n    )\r\n\r\ncheckin_counts_df \u003d checkin_df.withColumn(\"checkin_date\", explode(split(col(\"checkin_dates\"), \", \"))) \\\r\n    .groupBy(\"business_id\") \\\r\n    .agg(count(\"*\").alias(\"checkin_count\"))\r\n\r\nbusiness_stats_df \u003d business_stats_df.join(checkin_counts_df, \"business_id\", \"left\")\r\nbusiness_stats_df \u003d business_stats_df.na.fill(0, subset\u003d[\"checkin_count\"])\r\nbusiness_stats_df \u003d business_stats_df.withColumnRenamed(\"checkin_count\", \"Check-in Frequency\")\r\n\r\nwindow_spec \u003d Window.partitionBy(\"city\").orderBy(col(\"Rating Frequency\").desc(), col(\"Average Rating\").desc(), col(\"Check-in Frequency\").desc())\r\n\r\nranked_businesses_df \u003d business_stats_df.withColumn(\"Rank\", row_number().over(window_spec))\r\n\r\ntop_5_businesses_df \u003d ranked_businesses_df.filter(col(\"Rank\") \u003c\u003d 5)\r\n\r\nfinal_result_df \u003d top_5_businesses_df.select(\r\n    col(\"Rank\"),\r\n    col(\"City\"),\r\n    col(\"name\").alias(\"Business Name\"),\r\n    col(\"Average Rating\"),\r\n    col(\"Rating Frequency\"),\r\n    col(\"Check-in Frequency\")\r\n)\r\n\r\nz.show(final_result_df)\r\n\r\n"
    }
  ]
}